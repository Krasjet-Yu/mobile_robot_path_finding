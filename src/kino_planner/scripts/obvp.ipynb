{
 "cells": [
  {
   "cell_type": "code",
   "execution_count": 1,
   "metadata": {},
   "outputs": [],
   "source": [
    "import sympy as sp\n",
    "import numpy as np\n",
    "import matplotlib.pyplot as plt\n",
    "from typing import Dict"
   ]
  },
  {
   "cell_type": "code",
   "execution_count": 2,
   "metadata": {},
   "outputs": [],
   "source": [
    "sp.init_printing(use_unicode=True)"
   ]
  },
  {
   "cell_type": "markdown",
   "metadata": {},
   "source": [
    "### 待求解信息"
   ]
  },
  {
   "cell_type": "code",
   "execution_count": 3,
   "metadata": {},
   "outputs": [
    {
     "data": {
      "image/png": "[encoded data removed]",
      "text/latex": [
       "$\\displaystyle T$"
      ],
      "text/plain": [
       "T"
      ]
     },
     "metadata": {},
     "output_type": "display_data"
    },
    {
     "data": {
      "image/png": "[encoded data removed]",
      "text/latex": [
       "$\\displaystyle \\operatorname{u*}{\\left(t \\right)}$"
      ],
      "text/plain": [
       "u*(t)"
      ]
     },
     "metadata": {},
     "output_type": "display_data"
    },
    {
     "data": {
      "image/png": "[encoded data removed]",
      "text/latex": [
       "$\\displaystyle \\operatorname{p*}{\\left(t \\right)}$"
      ],
      "text/plain": [
       "p*(t)"
      ]
     },
     "metadata": {},
     "output_type": "display_data"
    },
    {
     "data": {
      "image/png": "[encoded data removed]",
      "text/latex": [
       "$\\displaystyle \\operatorname{v*}{\\left(t \\right)}$"
      ],
      "text/plain": [
       "v*(t)"
      ]
     },
     "metadata": {},
     "output_type": "display_data"
    }
   ],
   "source": [
    "T = sp.var('T')\n",
    "t = sp.var('t')\n",
    "u_best = sp.Function('u*')(t)\n",
    "p_best = sp.Function('p*')(t)\n",
    "v_best = sp.Function('v*')(t)\n",
    "display(T)\n",
    "display(u_best)\n",
    "display(p_best)\n",
    "display(v_best)"
   ]
  },
  {
   "cell_type": "markdown",
   "metadata": {},
   "source": [
    "### 已知信息\n",
    "1. System equation\n",
    "2. Cost Function\n",
    "3. Boundary Values"
   ]
  },
  {
   "cell_type": "code",
   "execution_count": 4,
   "metadata": {},
   "outputs": [
    {
     "name": "stdout",
     "output_type": "stream",
     "text": [
      "System Equation：\n"
     ]
    },
    {
     "data": {
      "text/latex": [
       "$\\displaystyle \\left[\\begin{matrix}\\frac{d}{d t} p{\\left(t \\right)}\\\\\\frac{d}{d t} v{\\left(t \\right)}\\end{matrix}\\right] = \\left[\\begin{matrix}v{\\left(t \\right)}\\\\u{\\left(t \\right)}\\end{matrix}\\right]$"
      ],
      "text/plain": [
       "⎡d       ⎤         \n",
       "⎢──(p(t))⎥         \n",
       "⎢dt      ⎥   ⎡v(t)⎤\n",
       "⎢        ⎥ = ⎢    ⎥\n",
       "⎢d       ⎥   ⎣u(t)⎦\n",
       "⎢──(v(t))⎥         \n",
       "⎣dt      ⎦         "
      ]
     },
     "metadata": {},
     "output_type": "display_data"
    }
   ],
   "source": [
    "print('System Equation：')\n",
    "p = sp.Function('p')(t)\n",
    "v = sp.Function('v')(t)\n",
    "u = sp.Function('u')(t)\n",
    "se = sp.Eq(sp.Matrix([sp.diff(p, (t, 1)), sp.diff(v, (t, 1))]), sp.Matrix([v, u]))\n",
    "display(se)"
   ]
  },
  {
   "cell_type": "code",
   "execution_count": 5,
   "metadata": {},
   "outputs": [
    {
     "name": "stdout",
     "output_type": "stream",
     "text": [
      "Cost Function: \n"
     ]
    },
    {
     "data": {
      "image/png": "[encoded data removed]",
      "text/latex": [
       "$\\displaystyle \\int\\limits_{0}^{T} u^{2}{\\left(t \\right)}\\, dt$"
      ],
      "text/plain": [
       "T         \n",
       "⌠         \n",
       "⎮  2      \n",
       "⎮ u (t) dt\n",
       "⌡         \n",
       "0         "
      ]
     },
     "metadata": {},
     "output_type": "display_data"
    }
   ],
   "source": [
    "print('Cost Function: ')\n",
    "Jk = sp.integrate(u**2, (t, 0, T))\n",
    "display(Jk)"
   ]
  },
  {
   "cell_type": "code",
   "execution_count": 6,
   "metadata": {},
   "outputs": [
    {
     "name": "stdout",
     "output_type": "stream",
     "text": [
      "Boundary Values\n"
     ]
    },
    {
     "data": {
      "image/png": "[encoded data removed]",
      "text/latex": [
       "$\\displaystyle p_{0}$"
      ],
      "text/plain": [
       "p₀"
      ]
     },
     "metadata": {},
     "output_type": "display_data"
    },
    {
     "data": {
      "image/png": "[encoded data removed]",
      "text/latex": [
       "$\\displaystyle v_{0}$"
      ],
      "text/plain": [
       "v₀"
      ]
     },
     "metadata": {},
     "output_type": "display_data"
    },
    {
     "data": {
      "image/png": "[encoded data removed]",
      "text/latex": [
       "$\\displaystyle a_{0}$"
      ],
      "text/plain": [
       "a₀"
      ]
     },
     "metadata": {},
     "output_type": "display_data"
    },
    {
     "data": {
      "image/png": "[encoded data removed]",
      "text/latex": [
       "$\\displaystyle p_{1}$"
      ],
      "text/plain": [
       "p₁"
      ]
     },
     "metadata": {},
     "output_type": "display_data"
    },
    {
     "data": {
      "image/png": "[encoded data removed]",
      "text/latex": [
       "$\\displaystyle v_{1}$"
      ],
      "text/plain": [
       "v₁"
      ]
     },
     "metadata": {},
     "output_type": "display_data"
    },
    {
     "data": {
      "image/png": "[encoded data removed]",
      "text/latex": [
       "$\\displaystyle a_{1}$"
      ],
      "text/plain": [
       "a₁"
      ]
     },
     "metadata": {},
     "output_type": "display_data"
    }
   ],
   "source": [
    "print(\"Boundary Values\")\n",
    "p0, v0, a0 = sp.var('p_0, v_0, a_0')\n",
    "p1, v1, a1 = sp.var('p_1, v_1, a_1')\n",
    "display(p0, v0, a0, p1, v1, a1)"
   ]
  },
  {
   "cell_type": "code",
   "execution_count": 7,
   "metadata": {},
   "outputs": [
    {
     "name": "stdout",
     "output_type": "stream",
     "text": [
      " Pontryagin minimum principle : \n"
     ]
    }
   ],
   "source": [
    "print(' Pontryagin minimum principle : ')"
   ]
  },
  {
   "cell_type": "code",
   "execution_count": 8,
   "metadata": {},
   "outputs": [
    {
     "name": "stdout",
     "output_type": "stream",
     "text": [
      "costate\n"
     ]
    },
    {
     "data": {
      "text/latex": [
       "$\\displaystyle \\left[\\begin{matrix}\\operatorname{λ_{1}}{\\left(t \\right)}\\\\\\operatorname{λ_{2}}{\\left(t \\right)}\\end{matrix}\\right]$"
      ],
      "text/plain": [
       "⎡λ₁(t)⎤\n",
       "⎢     ⎥\n",
       "⎣λ₂(t)⎦"
      ]
     },
     "execution_count": 8,
     "metadata": {},
     "output_type": "execute_result"
    }
   ],
   "source": [
    "print('costate')\n",
    "λ1 = sp.Function('λ_1')(t) \n",
    "λ2 = sp.Function('λ_2')(t)\n",
    "λ = sp.Matrix([λ1, λ2])\n",
    "s = sp.Matrix([p, v])\n",
    "λ"
   ]
  },
  {
   "cell_type": "code",
   "execution_count": 9,
   "metadata": {},
   "outputs": [
    {
     "name": "stdout",
     "output_type": "stream",
     "text": [
      "Hamiltonian function\n"
     ]
    },
    {
     "data": {
      "image/png": "[encoded data removed]",
      "text/latex": [
       "$\\displaystyle u{\\left(t \\right)} \\operatorname{λ_{2}}{\\left(t \\right)} + v{\\left(t \\right)} \\operatorname{λ_{1}}{\\left(t \\right)} + \\frac{u^{2}{\\left(t \\right)}}{T}$"
      ],
      "text/plain": [
       "                           2   \n",
       "                          u (t)\n",
       "u(t)⋅λ₂(t) + v(t)⋅λ₁(t) + ─────\n",
       "                            T  "
      ]
     },
     "execution_count": 9,
     "metadata": {},
     "output_type": "execute_result"
    }
   ],
   "source": [
    "print('Hamiltonian function')\n",
    "H = (1/T)*u**2+λ1*v+λ2*u\n",
    "H"
   ]
  },
  {
   "cell_type": "markdown",
   "metadata": {},
   "source": [
    "#### Theorem 1:"
   ]
  },
  {
   "cell_type": "code",
   "execution_count": 10,
   "metadata": {},
   "outputs": [
    {
     "name": "stdout",
     "output_type": "stream",
     "text": [
      "Start 1. solution λ(t)...\n"
     ]
    },
    {
     "data": {
      "image/png": "[encoded data removed]",
      "text/latex": [
       "$\\displaystyle \\frac{d}{d t} \\operatorname{λ_{1}}{\\left(t \\right)} = 0$"
      ],
      "text/plain": [
       "d            \n",
       "──(λ₁(t)) = 0\n",
       "dt           "
      ]
     },
     "metadata": {},
     "output_type": "display_data"
    },
    {
     "data": {
      "image/png": "[encoded data removed]",
      "text/latex": [
       "$\\displaystyle \\frac{d}{d t} \\operatorname{λ_{2}}{\\left(t \\right)} = - \\operatorname{λ_{1}}{\\left(t \\right)}$"
      ],
      "text/plain": [
       "d                 \n",
       "──(λ₂(t)) = -λ₁(t)\n",
       "dt                "
      ]
     },
     "metadata": {},
     "output_type": "display_data"
    }
   ],
   "source": [
    "print('Start 1. solution λ(t)...')\n",
    "eq = sp.Eq(sp.diff(λ, (t, 1)), -sp.diff(H, (s, 1)))\n",
    "l1 = sp.Eq(eq.args[0][0], eq.args[1][0])\n",
    "display(l1)\n",
    "a = sp.Symbol('a')\n",
    "l2 = sp.Eq(eq.args[0][1], eq.args[1][1])\n",
    "display(l2)\n",
    "# display(λ)"
   ]
  },
  {
   "cell_type": "code",
   "execution_count": 11,
   "metadata": {},
   "outputs": [
    {
     "data": {
      "image/png": "[encoded data removed]",
      "text/latex": [
       "$\\displaystyle λ1 = \\frac{2 a}{T}$"
      ],
      "text/plain": [
       "     2⋅a\n",
       "λ1 = ───\n",
       "      T "
      ]
     },
     "metadata": {},
     "output_type": "display_data"
    },
    {
     "data": {
      "image/png": "[encoded data removed]",
      "text/latex": [
       "$\\displaystyle λ2 = \\frac{2 a t + 2 b}{T}$"
      ],
      "text/plain": [
       "     2⋅a⋅t + 2⋅b\n",
       "λ2 = ───────────\n",
       "          T     "
      ]
     },
     "metadata": {},
     "output_type": "display_data"
    }
   ],
   "source": [
    "# constant\n",
    "a, b = sp.var('a b')\n",
    "λ1, λ2 = sp.var('λ1 λ2')\n",
    "display(sp.Eq(λ1, 2 * a / T))\n",
    "display(sp.Eq(λ2, (2 * a * t + 2 * b) / T))\n",
    "λ1 = 2 * a / T\n",
    "λ2 = (2 * a * t + 2 * b) / T"
   ]
  },
  {
   "cell_type": "markdown",
   "metadata": {},
   "source": [
    "#### Theorem 2"
   ]
  },
  {
   "cell_type": "code",
   "execution_count": 12,
   "metadata": {},
   "outputs": [
    {
     "data": {
      "image/png": "[encoded data removed]",
      "text/latex": [
       "$\\displaystyle \\operatorname{u*}{\\left(t \\right)} = a t + b$"
      ],
      "text/plain": [
       "u*(t) = a⋅t + b"
      ]
     },
     "metadata": {},
     "output_type": "display_data"
    },
    {
     "data": {
      "image/png": "[encoded data removed]",
      "text/latex": [
       "$\\displaystyle \\operatorname{v*}{\\left(t \\right)} = \\frac{a t^{2}}{2} + b t + c$"
      ],
      "text/plain": [
       "           2          \n",
       "        a⋅t           \n",
       "v*(t) = ──── + b⋅t + c\n",
       "         2            "
      ]
     },
     "metadata": {},
     "output_type": "display_data"
    },
    {
     "data": {
      "image/png": "[encoded data removed]",
      "text/latex": [
       "$\\displaystyle c = v_{0}$"
      ],
      "text/plain": [
       "c = v₀"
      ]
     },
     "metadata": {},
     "output_type": "display_data"
    },
    {
     "data": {
      "image/png": "[encoded data removed]",
      "text/latex": [
       "$\\displaystyle \\operatorname{p*}{\\left(t \\right)} = \\frac{a t^{3}}{6} + \\frac{b t^{2}}{2} + c t + d$"
      ],
      "text/plain": [
       "           3      2          \n",
       "        a⋅t    b⋅t           \n",
       "p*(t) = ──── + ──── + c⋅t + d\n",
       "         6      2            "
      ]
     },
     "metadata": {},
     "output_type": "display_data"
    },
    {
     "data": {
      "image/png": "[encoded data removed]",
      "text/latex": [
       "$\\displaystyle d = p_{0}$"
      ],
      "text/plain": [
       "d = p₀"
      ]
     },
     "metadata": {},
     "output_type": "display_data"
    }
   ],
   "source": [
    "c, d = sp.var('c d')\n",
    "display(sp.Eq(u_best, a * t + b))\n",
    "display(sp.Eq(v_best, a * t**2 / 2 + b * t + c))\n",
    "display(sp.Eq(c, v0))\n",
    "display(sp.Eq(p_best, a * t**3 / 6 + b * t**2 / 2 + c*t + d))\n",
    "display(sp.Eq(d, p0))"
   ]
  },
  {
   "cell_type": "code",
   "execution_count": 13,
   "metadata": {},
   "outputs": [
    {
     "data": {
      "image/png": "[encoded data removed]",
      "text/latex": [
       "$\\displaystyle Δp = - T v_{0} + p_{0} + p_{t}$"
      ],
      "text/plain": [
       "Δp = -T⋅v₀ + p₀ + pₜ"
      ]
     },
     "metadata": {},
     "output_type": "display_data"
    },
    {
     "data": {
      "image/png": "[encoded data removed]",
      "text/latex": [
       "$\\displaystyle Δv = - v_{0} + v_{t}$"
      ],
      "text/plain": [
       "Δv = -v₀ + vₜ"
      ]
     },
     "metadata": {},
     "output_type": "display_data"
    }
   ],
   "source": [
    "v0, vt = sp.var('v_0 v_t')\n",
    "p0, pt = sp.var('p_0, p_t')\n",
    "T = sp.var('T')\n",
    "\n",
    "dp = sp.Symbol('Δp')\n",
    "display(sp.Eq(dp, (pt-v0*T+p0)))\n",
    "dp = pt-v0*T+p0\n",
    "\n",
    "dv = sp.Symbol('Δv')\n",
    "display(sp.Eq(dv, (-v0+vt)))\n",
    "dv = vt - v0"
   ]
  },
  {
   "cell_type": "code",
   "execution_count": 14,
   "metadata": {},
   "outputs": [
    {
     "data": {
      "text/latex": [
       "$\\displaystyle \\left[\\begin{matrix}- \\frac{12}{T^{3}} & \\frac{6}{T^{2}}\\\\\\frac{6}{T^{2}} & - \\frac{2}{T}\\end{matrix}\\right]$"
      ],
      "text/plain": [
       "⎡-12   6  ⎤\n",
       "⎢────  ── ⎥\n",
       "⎢  3    2 ⎥\n",
       "⎢ T    T  ⎥\n",
       "⎢         ⎥\n",
       "⎢ 6    -2 ⎥\n",
       "⎢ ──   ───⎥\n",
       "⎢  2    T ⎥\n",
       "⎣ T       ⎦"
      ]
     },
     "metadata": {},
     "output_type": "display_data"
    },
    {
     "data": {
      "text/latex": [
       "$\\displaystyle \\left[\\begin{matrix}- T v_{0} + p_{0} + p_{t}\\\\- v_{0} + v_{t}\\end{matrix}\\right]$"
      ],
      "text/plain": [
       "⎡-T⋅v₀ + p₀ + pₜ⎤\n",
       "⎢               ⎥\n",
       "⎣   -v₀ + vₜ    ⎦"
      ]
     },
     "metadata": {},
     "output_type": "display_data"
    },
    {
     "data": {
      "text/latex": [
       "$\\displaystyle \\left[\\begin{matrix}- \\frac{12}{T^{3}} & \\frac{6}{T^{2}}\\\\\\frac{6}{T^{2}} & - \\frac{2}{T}\\end{matrix}\\right] \\left[\\begin{matrix}- T v_{0} + p_{0} + p_{t}\\\\- v_{0} + v_{t}\\end{matrix}\\right]$"
      ],
      "text/plain": [
       "⎡-12   6  ⎤                  \n",
       "⎢────  ── ⎥                  \n",
       "⎢  3    2 ⎥                  \n",
       "⎢ T    T  ⎥ ⎡-T⋅v₀ + p₀ + pₜ⎤\n",
       "⎢         ⎥⋅⎢               ⎥\n",
       "⎢ 6    -2 ⎥ ⎣   -v₀ + vₜ    ⎦\n",
       "⎢ ──   ───⎥                  \n",
       "⎢  2    T ⎥                  \n",
       "⎣ T       ⎦                  "
      ]
     },
     "metadata": {},
     "output_type": "display_data"
    },
    {
     "data": {
      "image/png": "[encoded data removed]",
      "text/latex": [
       "$\\displaystyle a = \\frac{6 \\left(T v_{0} + T v_{t} - 2 p_{0} - 2 p_{t}\\right)}{T^{3}}$"
      ],
      "text/plain": [
       "    6⋅(T⋅v₀ + T⋅vₜ - 2⋅p₀ - 2⋅pₜ)\n",
       "a = ─────────────────────────────\n",
       "                   3             \n",
       "                  T              "
      ]
     },
     "metadata": {},
     "output_type": "display_data"
    },
    {
     "data": {
      "image/png": "[encoded data removed]",
      "text/latex": [
       "$\\displaystyle b = \\frac{2 \\left(- 3 T v_{0} + T \\left(v_{0} - v_{t}\\right) + 3 p_{0} + 3 p_{t}\\right)}{T^{2}}$"
      ],
      "text/plain": [
       "    2⋅(-3⋅T⋅v₀ + T⋅(v₀ - vₜ) + 3⋅p₀ + 3⋅pₜ)\n",
       "b = ───────────────────────────────────────\n",
       "                        2                  \n",
       "                       T                   "
      ]
     },
     "metadata": {},
     "output_type": "display_data"
    }
   ],
   "source": [
    "m1 = sp.Matrix([[-12, 6*T], [6*T, -2*T*T]]) / T**3\n",
    "m2 = sp.Matrix([dp, dv])\n",
    "display(m1)\n",
    "display(m2)\n",
    "a, b = m1 * m2\n",
    "d = sp.MatMul(m1, m2)\n",
    "display(d)\n",
    "display(sp.Eq(sp.Symbol('a'), sp.simplify(a)))\n",
    "display(sp.Eq(sp.Symbol('b'), sp.simplify(b)))"
   ]
  },
  {
   "cell_type": "markdown",
   "metadata": {},
   "source": [
    "#### Solve Cost FUnction"
   ]
  },
  {
   "cell_type": "code",
   "execution_count": 15,
   "metadata": {},
   "outputs": [
    {
     "data": {
      "image/png": "[encoded data removed]",
      "text/latex": [
       "$\\displaystyle \\frac{4 \\left(T^{2} v_{0}^{2} + T^{2} v_{0} v_{t} + T^{2} v_{t}^{2} - 3 T p_{0} v_{0} - 3 T p_{0} v_{t} - 3 T p_{t} v_{0} - 3 T p_{t} v_{t} + 3 p_{0}^{2} + 6 p_{0} p_{t} + 3 p_{t}^{2}\\right)}{T^{3}}$"
      ],
      "text/plain": [
       "  ⎛ 2   2    2          2   2                                                 \n",
       "4⋅⎝T ⋅v₀  + T ⋅v₀⋅vₜ + T ⋅vₜ  - 3⋅T⋅p₀⋅v₀ - 3⋅T⋅p₀⋅vₜ - 3⋅T⋅pₜ⋅v₀ - 3⋅T⋅pₜ⋅vₜ \n",
       "──────────────────────────────────────────────────────────────────────────────\n",
       "                                                    3                         \n",
       "                                                   T                          \n",
       "\n",
       "      2                 2⎞\n",
       "+ 3⋅p₀  + 6⋅p₀⋅pₜ + 3⋅pₜ ⎠\n",
       "──────────────────────────\n",
       "                          \n",
       "                          "
      ]
     },
     "metadata": {},
     "output_type": "display_data"
    }
   ],
   "source": [
    "J = a*a*T**3/3 + a*b*T**2 + b*b*T\n",
    "display(sp.simplify(J))"
   ]
  },
  {
   "cell_type": "markdown",
   "metadata": {},
   "source": [
    "#### Derivation for Cost Function"
   ]
  },
  {
   "cell_type": "code",
   "execution_count": 19,
   "metadata": {},
   "outputs": [
    {
     "data": {
      "image/png": "[encoded data removed]",
      "text/latex": [
       "$\\displaystyle \\frac{- 4 T^{2} v_{0}^{2} - 4 T^{2} v_{0} v_{t} - 4 T^{2} v_{t}^{2} + 24 T p_{0} v_{0} + 24 T p_{0} v_{t} + 24 T p_{t} v_{0} + 24 T p_{t} v_{t} - 36 p_{0}^{2} - 72 p_{0} p_{t} - 36 p_{t}^{2}}{T^{4}}$"
      ],
      "text/plain": [
       "     2   2      2            2   2                                            \n",
       "- 4⋅T ⋅v₀  - 4⋅T ⋅v₀⋅vₜ - 4⋅T ⋅vₜ  + 24⋅T⋅p₀⋅v₀ + 24⋅T⋅p₀⋅vₜ + 24⋅T⋅pₜ⋅v₀ + 24\n",
       "──────────────────────────────────────────────────────────────────────────────\n",
       "                                                          4                   \n",
       "                                                         T                    \n",
       "\n",
       "                2                   2\n",
       "⋅T⋅pₜ⋅vₜ - 36⋅p₀  - 72⋅p₀⋅pₜ - 36⋅pₜ \n",
       "─────────────────────────────────────\n",
       "                                     \n",
       "                                     "
      ]
     },
     "metadata": {},
     "output_type": "display_data"
    }
   ],
   "source": [
    "dJ = sp.diff(J, (T, 1))\n",
    "display(sp.simplify(dJ))"
   ]
  },
  {
   "cell_type": "code",
   "execution_count": 20,
   "metadata": {},
   "outputs": [
    {
     "data": {
      "image/png": "[encoded data removed]",
      "text/latex": [
       "$\\displaystyle c_{1} t^{4} + c_{2} t^{3} + c_{3} t^{2}$"
      ],
      "text/plain": [
       "    4       3       2\n",
       "c₁⋅t  + c₂⋅t  + c₃⋅t "
      ]
     },
     "metadata": {},
     "output_type": "display_data"
    },
    {
     "data": {
      "image/png": "[encoded data removed]",
      "text/latex": [
       "$\\displaystyle - 36 t^{4} \\left(p_{0} - p_{t}\\right)^{2} + t^{3} \\left(p_{0} + p_{t}\\right) \\left(24 v_{0} + 24 v_{t}\\right) + t^{2} \\left(4 v_{0}^{2} + 4 v_{0} v_{t} + 4 v_{t}^{2}\\right)$"
      ],
      "text/plain": [
       "      4          2    3                              2 ⎛    2                 \n",
       "- 36⋅t ⋅(p₀ - pₜ)  + t ⋅(p₀ + pₜ)⋅(24⋅v₀ + 24⋅vₜ) + t ⋅⎝4⋅v₀  + 4⋅v₀⋅vₜ + 4⋅vₜ\n",
       "\n",
       "2⎞\n",
       " ⎠"
      ]
     },
     "metadata": {},
     "output_type": "display_data"
    }
   ],
   "source": [
    "c1, c2, c3, t = sp.var('c_1, c_2, c_3, t')\n",
    "f = sp.Function('f')(t)\n",
    "f = c1 * t**4 + c2 * t**3 + c3 * t**2\n",
    "display(f)\n",
    "c1 = -36 * (p0 - pt)**2\n",
    "c2 = 24 * (v0 + vt) * (p0 + pt)\n",
    "c3 = 4 * (v0*v0 + v0*vt + vt*vt)\n",
    "f = c1 * t**4 + c2 * t**3 + c3 * t**2\n",
    "display(f)"
   ]
  },
  {
   "cell_type": "code",
   "execution_count": 21,
   "metadata": {},
   "outputs": [
    {
     "data": {
      "image/png": "[encoded data removed]",
      "text/latex": [
       "$\\displaystyle \\left[ \\left( 0\\right), \\  \\left( - \\frac{\\sqrt{2 p_{0}^{2} v_{0}^{2} + 3 p_{0}^{2} v_{0} v_{t} + 2 p_{0}^{2} v_{t}^{2} + 2 p_{0} p_{t} v_{0} v_{t} + 2 p_{t}^{2} v_{0}^{2} + 3 p_{t}^{2} v_{0} v_{t} + 2 p_{t}^{2} v_{t}^{2}}}{3 \\left(- p_{0}^{2} + 2 p_{0} p_{t} - p_{t}^{2}\\right)} + \\frac{\\left(p_{0} + p_{t}\\right) \\left(v_{0} + v_{t}\\right)}{3 \\left(p_{0} - p_{t}\\right)^{2}}\\right), \\  \\left( \\frac{\\sqrt{2 p_{0}^{2} v_{0}^{2} + 3 p_{0}^{2} v_{0} v_{t} + 2 p_{0}^{2} v_{t}^{2} + 2 p_{0} p_{t} v_{0} v_{t} + 2 p_{t}^{2} v_{0}^{2} + 3 p_{t}^{2} v_{0} v_{t} + 2 p_{t}^{2} v_{t}^{2}}}{3 \\left(- p_{0}^{2} + 2 p_{0} p_{t} - p_{t}^{2}\\right)} + \\frac{\\left(p_{0} + p_{t}\\right) \\left(v_{0} + v_{t}\\right)}{3 \\left(p_{0} - p_{t}\\right)^{2}}\\right)\\right]$"
      ],
      "text/plain": [
       "⎡      ⎛     _________________________________________________________________\n",
       "⎢      ⎜    ╱     2   2       2             2   2                       2   2 \n",
       "⎢      ⎜  ╲╱  2⋅p₀ ⋅v₀  + 3⋅p₀ ⋅v₀⋅vₜ + 2⋅p₀ ⋅vₜ  + 2⋅p₀⋅pₜ⋅v₀⋅vₜ + 2⋅pₜ ⋅v₀  \n",
       "⎢(0,), ⎜- ────────────────────────────────────────────────────────────────────\n",
       "⎢      ⎜                                      ⎛    2               2⎞         \n",
       "⎣      ⎝                                    3⋅⎝- p₀  + 2⋅p₀⋅pₜ - pₜ ⎠         \n",
       "\n",
       "__________________________                       ⎞  ⎛   ______________________\n",
       "      2             2   2                        ⎟  ⎜  ╱     2   2       2    \n",
       "+ 3⋅pₜ ⋅v₀⋅vₜ + 2⋅pₜ ⋅vₜ     (p₀ + pₜ)⋅(v₀ + vₜ) ⎟  ⎜╲╱  2⋅p₀ ⋅v₀  + 3⋅p₀ ⋅v₀⋅\n",
       "────────────────────────── + ───────────────────,⎟, ⎜─────────────────────────\n",
       "                                            2    ⎟  ⎜                         \n",
       "                                 3⋅(p₀ - pₜ)     ⎠  ⎝                         \n",
       "\n",
       "_____________________________________________________________________         \n",
       "         2   2                       2   2       2             2   2          \n",
       "vₜ + 2⋅p₀ ⋅vₜ  + 2⋅p₀⋅pₜ⋅v₀⋅vₜ + 2⋅pₜ ⋅v₀  + 3⋅pₜ ⋅v₀⋅vₜ + 2⋅pₜ ⋅vₜ     (p₀ + \n",
       "───────────────────────────────────────────────────────────────────── + ──────\n",
       "           ⎛    2               2⎞                                            \n",
       "         3⋅⎝- p₀  + 2⋅p₀⋅pₜ - pₜ ⎠                                          3⋅\n",
       "\n",
       "              ⎞⎤\n",
       "              ⎟⎥\n",
       "pₜ)⋅(v₀ + vₜ) ⎟⎥\n",
       "─────────────,⎟⎥\n",
       "         2    ⎟⎥\n",
       "(p₀ - pₜ)     ⎠⎦"
      ]
     },
     "metadata": {},
     "output_type": "display_data"
    }
   ],
   "source": [
    "eq = sp.Eq(f, 0)\n",
    "display(sp.solve([eq], t))"
   ]
  },
  {
   "cell_type": "code",
   "execution_count": null,
   "metadata": {},
   "outputs": [],
   "source": []
  }
 ],
 "metadata": {
  "kernelspec": {
   "display_name": "Python 3 (ipykernel)",
   "language": "python",
   "name": "python3"
  },
  "language_info": {
   "codemirror_mode": {
    "name": "ipython",
    "version": 3
   },
   "file_extension": ".py",
   "mimetype": "text/x-python",
   "name": "python",
   "nbconvert_exporter": "python",
   "pygments_lexer": "ipython3",
   "version": "3.8.10"
  }
 },
 "nbformat": 4,
 "nbformat_minor": 4
}
